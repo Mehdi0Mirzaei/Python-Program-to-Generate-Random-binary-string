{
 "cells": [
  {
   "cell_type": "code",
   "execution_count": 9,
   "id": "d884da5d",
   "metadata": {},
   "outputs": [
    {
     "name": "stdout",
     "output_type": "stream",
     "text": [
      "Random binary string of length 7: 110001\n"
     ]
    }
   ],
   "source": [
    "import random\n",
    " \n",
    "def generate_binary_string(n):\n",
    "    # Generate a random number with n bits\n",
    "    number = random.getrandbits(n)\n",
    "    # Convert the number to binary\n",
    "    binary_string = format(number, '0b')\n",
    "    return binary_string\n",
    " \n",
    "# Test the function\n",
    "n = 7\n",
    "print(\"Random binary string of length {}: {}\".format(n, generate_binary_string(n)))"
   ]
  },
  {
   "cell_type": "code",
   "execution_count": null,
   "id": "d2933a94",
   "metadata": {},
   "outputs": [],
   "source": [
    "import random\n",
    " \n",
    " \n",
    "# Function to create the\n",
    "# random binary string\n",
    "def rand_key(p):\n",
    "   # Variable to store the \n",
    "    # string\n",
    "    key1 = \"\"\n",
    " # Loop to find the string\n",
    "    # of desired length\n",
    "    for i in range(p):\n",
    "         \n",
    "        # randint function to generate\n",
    "        # 0, 1 randomly and converting \n",
    "        # the result into str\n",
    "        temp = str(random.randint(0, 1))\n",
    " # Concatenation the random 0, 1\n",
    "        # to the final result\n",
    "        key1 += temp\n",
    "         \n",
    "    return(key1)\n",
    " \n",
    "# Driver Code\n",
    "n = 7\n",
    "str1 = rand_key(n)\n",
    "print(\"Desired length random binary string is: \", str1)"
   ]
  }
 ],
 "metadata": {
  "kernelspec": {
   "display_name": "Python 3 (ipykernel)",
   "language": "python",
   "name": "python3"
  },
  "language_info": {
   "codemirror_mode": {
    "name": "ipython",
    "version": 3
   },
   "file_extension": ".py",
   "mimetype": "text/x-python",
   "name": "python",
   "nbconvert_exporter": "python",
   "pygments_lexer": "ipython3",
   "version": "3.9.13"
  }
 },
 "nbformat": 4,
 "nbformat_minor": 5
}
